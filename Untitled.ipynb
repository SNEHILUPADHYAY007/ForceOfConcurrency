{
 "cells": [
  {
   "cell_type": "code",
   "execution_count": 17,
   "id": "48ce7375-0926-47f9-b8b7-37f4ef49a4b7",
   "metadata": {},
   "outputs": [
    {
     "name": "stdout",
     "output_type": "stream",
     "text": [
      "(8, 2)\n",
      "10\n"
     ]
    }
   ],
   "source": [
    "import requests\n",
    "\n",
    "req = requests.get('https://swapi.dev/api/people').json()\n",
    "print(divmod(req['count'],len(req['results'])))\n",
    "print(len(req['results']))"
   ]
  },
  {
   "cell_type": "code",
   "execution_count": 4,
   "id": "2ce05e3b-4b8c-4b27-8148-01e7aa9823e1",
   "metadata": {},
   "outputs": [
    {
     "name": "stdout",
     "output_type": "stream",
     "text": [
      "b []\n"
     ]
    }
   ],
   "source": [
    "a = {'b':[]}\n",
    "for i,s in a.items():\n",
    "    print(i,s)"
   ]
  },
  {
   "cell_type": "code",
   "execution_count": 3,
   "id": "86596ee8-578d-4457-96b2-bf7e30265451",
   "metadata": {},
   "outputs": [
    {
     "name": "stdout",
     "output_type": "stream",
     "text": [
      "0 1\n",
      "1 2\n",
      "2 3\n",
      "3 4\n",
      "4 5\n"
     ]
    }
   ],
   "source": [
    "a = [1,2,3,4,5]\n",
    "for ind, val in enumerate(a):\n",
    "    print(ind,val)"
   ]
  },
  {
   "cell_type": "code",
   "execution_count": null,
   "id": "c8cc4e17-7a3d-41ad-9b1e-fc77da551631",
   "metadata": {},
   "outputs": [],
   "source": [
    "a = "
   ]
  }
 ],
 "metadata": {
  "kernelspec": {
   "display_name": "Python 3 (ipykernel)",
   "language": "python",
   "name": "python3"
  },
  "language_info": {
   "codemirror_mode": {
    "name": "ipython",
    "version": 3
   },
   "file_extension": ".py",
   "mimetype": "text/x-python",
   "name": "python",
   "nbconvert_exporter": "python",
   "pygments_lexer": "ipython3",
   "version": "3.8.2"
  }
 },
 "nbformat": 4,
 "nbformat_minor": 5
}
